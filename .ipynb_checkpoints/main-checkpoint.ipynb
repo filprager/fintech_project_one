{
 "cells": [
  {
   "cell_type": "code",
   "execution_count": null,
   "metadata": {},
   "outputs": [],
   "source": [
    "# Import libraries\n",
    "from panel.interact import interact\n",
    "\n",
    "# Import self-made modules\n",
    "from get_data import get_data\n",
    "from process_data import process_data\n",
    "from visualize_data import make_plot1, make_plot2\n",
    "from make_interface import make_interface"
   ]
  },
  {
   "cell_type": "code",
   "execution_count": null,
   "metadata": {},
   "outputs": [],
   "source": [
    "# Create a function to generate the app\n",
    "def create_app(ticker1, weight1, ticker2, weight2, start_date, end_date):\n",
    "    # Check if the sum of all weights = 1\n",
    "    if weight1 + weight2 != 1:\n",
    "        return 'Make sure the sum of your weights is 1'\n",
    "    \n",
    "    # --------------------- Get the data from APIs ---------------------\n",
    "    # This function takes tickers (including stocks, cryptocurrencies and indexes), start date and end date, then returns a pandas dataframe of their historical prices in the time span\n",
    "    raw_data = get_data(ticker1, ticker2, start_date, end_date)\n",
    "     \n",
    "    # --------------------- Process the data ---------------------\n",
    "    tickers = [ticker1, ticker2]\n",
    "    weights = [weight1, weight2]\n",
    "    processed_data = process_data(raw_data, tickers, weights)\n",
    "    \n",
    "    \n",
    "    # --------------------- Visualize the data ---------------------\n",
    "    plot1 = make_plot1(processed_data)\n",
    "    plot2 = make_plot2(processed_data)\n",
    "\n",
    "    \n",
    "    # --------------------- Make the interface of the app ---------------------\n",
    "    app = make_interface(plot1, plot2)\n",
    "    \n",
    "    return app"
   ]
  },
  {
   "cell_type": "code",
   "execution_count": null,
   "metadata": {},
   "outputs": [],
   "source": [
    "# Run the app\n",
    "interact(create_app, ticker1='MSFT', ticker2='DIS', weight1=0.5, weight2=0.5, start_date='2020-01-01', end_date='2020-12-20')"
   ]
  }
 ],
 "metadata": {
  "kernelspec": {
   "display_name": "Python 3",
   "language": "python",
   "name": "python3"
  },
  "language_info": {
   "codemirror_mode": {
    "name": "ipython",
    "version": 3
   },
   "file_extension": ".py",
   "mimetype": "text/x-python",
   "name": "python",
   "nbconvert_exporter": "python",
   "pygments_lexer": "ipython3",
   "version": "3.7.9"
  }
 },
 "nbformat": 4,
 "nbformat_minor": 4
}
