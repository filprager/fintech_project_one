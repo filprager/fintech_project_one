{
 "cells": [
  {
   "cell_type": "code",
   "execution_count": null,
   "metadata": {},
   "outputs": [],
   "source": [
    "# Import libraries\n",
    "from panel.interact import interact, interact_manual"
   ]
  },
  {
   "cell_type": "code",
   "execution_count": null,
   "metadata": {},
   "outputs": [],
   "source": [
    "# imports\n",
    "import panel as pn\n",
    "pn.extension('plotly')\n",
    "import plotly.express as px\n",
    "import pandas as pd\n",
    "import hvplot.pandas\n",
    "import matplotlib.pyplot as plt\n",
    "import os\n",
    "from pathlib import Path\n",
    "from dotenv import load_dotenv\n",
    "from MCForecastTools import MCSimulation\n",
    "import json\n",
    "\n",
    "# Import self-made modules\n",
    "from get_data import get_data_stock, get_data_market\n",
    "from process_data import process_data_cumulative_returns, process_data_monte_carlo\n",
    "from visualize_data import make_plot1, make_plot2, make_plot3, make_plot4\n",
    "from make_interface import make_interface"
   ]
  },
  {
   "cell_type": "code",
   "execution_count": null,
   "metadata": {},
   "outputs": [],
   "source": [
    "import numpy as np\n",
    "from panel.interact import interact\n",
    "from panel import widgets"
   ]
  },
  {
   "cell_type": "code",
   "execution_count": null,
   "metadata": {},
   "outputs": [],
   "source": [
    "# Create a function to generate the app\n",
    "def create_app(ticker1, weight1, ticker2, weight2, ticker3, weight3, ticker4, weight4, ticker5, weight5):\n",
    "    # Check if the sum of all weights = 1\n",
    "    if weight1 + weight2 + weight3 + weight4 + weight5 != 1:\n",
    "        return 'Make sure the sum of your weights is 1'\n",
    "    \n",
    "    # --------------------- Get the data from APIs ---------------------\n",
    "    # Get data for given stocks\n",
    "    raw_data_stock = get_data_stock(ticker1, ticker2, ticker3, ticker4, ticker5)\n",
    "    \n",
    "    # Get data of the market (i.e. S&P 500 index)\n",
    "    raw_data_market = get_data_market()\n",
    "     \n",
    "        \n",
    "    # --------------------- Process the data ---------------------\n",
    "    tickers = [ticker1, ticker2, ticker3, ticker4, ticker5]\n",
    "    weights = [weight1, weight2, weight3, weight4, weight5]\n",
    "    processed_data = process_data_cumulative_returns(raw_data_stock, tickers, weights, raw_data_market)\n",
    "    processed_data_monte_carlo = process_data_monte_carlo(raw_data_stock, weights)\n",
    "    \n",
    "    # --------------------- Visualize the data ---------------------\n",
    "    plot1 = make_plot1(processed_data)\n",
    "    plot2 = make_plot2(processed_data)\n",
    "    plot3 = make_plot3(processed_data_monte_carlo)\n",
    "    plot4 = make_plot4(processed_data_monte_carlo)\n",
    "\n",
    "    \n",
    "    # --------------------- Make the interface of the app ---------------------\n",
    "    app = make_interface(plot1, plot2, plot3, plot4)\n",
    "    \n",
    "    return app"
   ]
  },
  {
   "cell_type": "code",
   "execution_count": null,
   "metadata": {},
   "outputs": [],
   "source": [
    "# Beautify the app's interface\n",
    "\n",
    "# Make the main interface interactive\n",
    "main_interface = interact_manual(create_app, ticker1='FB', weight1=0.2, ticker2='AMZN', weight2=0.2, ticker3='NFLX', weight3=0.2, ticker4='DIS', weight4=0.2, ticker5='TSLA', weight5=0.2)\n",
    "\n",
    "# Add additional elements for the main interface\n",
    "whole_interface = pn.Column('# DeLorean',\n",
    "          '#### Enter up to 5 tickers and weights for your portfolio',\n",
    "          main_interface)"
   ]
  },
  {
   "cell_type": "code",
   "execution_count": null,
   "metadata": {},
   "outputs": [],
   "source": [
    "# Run the app\n",
    "whole_interface.show()"
   ]
  },
  {
   "cell_type": "code",
   "execution_count": null,
   "metadata": {},
   "outputs": [],
   "source": [
    "#Test output\n",
    "#monte_carlo_df"
   ]
  }
 ],
 "metadata": {
  "kernelspec": {
   "display_name": "Python [conda env:root] *",
   "language": "python",
   "name": "conda-root-py"
  },
  "language_info": {
   "codemirror_mode": {
    "name": "ipython",
    "version": 3
   },
   "file_extension": ".py",
   "mimetype": "text/x-python",
   "name": "python",
   "nbconvert_exporter": "python",
   "pygments_lexer": "ipython3",
   "version": "3.7.9"
  }
 },
 "nbformat": 4,
 "nbformat_minor": 4
}
