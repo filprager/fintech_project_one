{
 "cells": [
  {
   "cell_type": "code",
   "execution_count": 4,
   "metadata": {},
   "outputs": [],
   "source": [
    "# Import modules\n",
    "from get_data import get_data\n",
    "from process_data import process_data\n",
    "from visualize_data import make_plot1, make_plot2\n",
    "from format_plots import format_plots\n",
    "from panel.interact import interact"
   ]
  },
  {
   "cell_type": "code",
   "execution_count": 5,
   "metadata": {},
   "outputs": [],
   "source": [
    "# Create a function to generate the app\n",
    "def create_app(ticker1, weight1, ticker2, weight2):\n",
    "    # Check if the sum of all weights = 1\n",
    "    if weight1 + weight2 != 1:\n",
    "        return 'Make sure the sum of your weights is 1'\n",
    "    \n",
    "    # Get the data\n",
    "    tickers = [ticker1, ticker2]\n",
    "    weights = [weight1, weight2]\n",
    "    raw_data = get_data(tickers, weights)\n",
    "        \n",
    "    # Process the data\n",
    "    tickers = [ticker1, ticker2]\n",
    "    weights = [weight1, weight2]\n",
    "    processed_data = process_data(raw_data, tickers, weights)\n",
    "    \n",
    "    # Visualize the data\n",
    "    plot1 = make_plot1(processed_data)\n",
    "    plot2 = make_plot2(processed_data)\n",
    "\n",
    "    # Design the front end of the app\n",
    "    app = format_plots(plot1, plot2)\n",
    "    \n",
    "    return app"
   ]
  },
  {
   "cell_type": "code",
   "execution_count": 6,
   "metadata": {},
   "outputs": [
    {
     "data": {},
     "metadata": {},
     "output_type": "display_data"
    },
    {
     "data": {},
     "metadata": {},
     "output_type": "display_data"
    },
    {
     "data": {
      "application/vnd.holoviews_exec.v0+json": "",
      "text/html": [
       "<div id='1001'>\n",
       "\n",
       "\n",
       "\n",
       "\n",
       "\n",
       "  <div class=\"bk-root\" id=\"45a38bd9-1cfe-4b00-834d-849cfe6963be\" data-root-id=\"1001\"></div>\n",
       "</div>\n",
       "<script type=\"application/javascript\">(function(root) {\n",
       "  function embed_document(root) {\n",
       "    var docs_json = {\"bd39816c-c78a-4365-b9cb-332ca4b56aed\":{\"roots\":{\"references\":[{\"attributes\":{},\"id\":\"1043\",\"type\":\"Selection\"},{\"attributes\":{\"line_color\":\"#1f77b3\",\"line_width\":2,\"x\":{\"field\":\"time\"},\"y\":{\"field\":\"Cumulative Returns\"}},\"id\":\"1045\",\"type\":\"Line\"},{\"attributes\":{},\"id\":\"1103\",\"type\":\"CategoricalScale\"},{\"attributes\":{\"months\":[0,2,4,6,8,10]},\"id\":\"1067\",\"type\":\"MonthsTicker\"},{\"attributes\":{\"axis_label\":\"time\",\"bounds\":\"auto\",\"formatter\":{\"id\":\"1136\"},\"major_label_orientation\":\"horizontal\",\"ticker\":{\"id\":\"1108\"}},\"id\":\"1107\",\"type\":\"CategoricalAxis\"},{\"attributes\":{\"axis\":{\"id\":\"1110\"},\"dimension\":1,\"grid_line_color\":null,\"ticker\":null},\"id\":\"1113\",\"type\":\"Grid\"},{\"attributes\":{\"active_drag\":\"auto\",\"active_inspect\":\"auto\",\"active_multi\":null,\"active_scroll\":\"auto\",\"active_tap\":\"auto\",\"tools\":[{\"id\":\"1011\"},{\"id\":\"1029\"},{\"id\":\"1030\"},{\"id\":\"1031\"},{\"id\":\"1032\"},{\"id\":\"1033\"}]},\"id\":\"1035\",\"type\":\"Toolbar\"},{\"attributes\":{},\"id\":\"1105\",\"type\":\"LinearScale\"},{\"attributes\":{},\"id\":\"1029\",\"type\":\"SaveTool\"},{\"attributes\":{\"end\":1607990400000.0,\"reset_end\":1607990400000.0,\"reset_start\":1594684800000.0,\"start\":1594684800000.0,\"tags\":[[[\"time\",\"time\",null]]]},\"id\":\"1009\",\"type\":\"Range1d\"},{\"attributes\":{\"months\":[0,4,8]},\"id\":\"1068\",\"type\":\"MonthsTicker\"},{\"attributes\":{},\"id\":\"1030\",\"type\":\"PanTool\"},{\"attributes\":{\"months\":[0,6]},\"id\":\"1069\",\"type\":\"MonthsTicker\"},{\"attributes\":{\"child\":{\"id\":\"1098\"},\"name\":\"Tab2\",\"title\":\"Tab2\"},\"id\":\"1155\",\"type\":\"Panel\"},{\"attributes\":{},\"id\":\"1031\",\"type\":\"WheelZoomTool\"},{\"attributes\":{},\"id\":\"1108\",\"type\":\"CategoricalTicker\"},{\"attributes\":{},\"id\":\"1070\",\"type\":\"YearsTicker\"},{\"attributes\":{\"overlay\":{\"id\":\"1034\"}},\"id\":\"1032\",\"type\":\"BoxZoomTool\"},{\"attributes\":{\"axis\":{\"id\":\"1107\"},\"grid_line_color\":null,\"ticker\":null},\"id\":\"1109\",\"type\":\"Grid\"},{\"attributes\":{},\"id\":\"1072\",\"type\":\"UnionRenderers\"},{\"attributes\":{},\"id\":\"1111\",\"type\":\"BasicTicker\"},{\"attributes\":{\"end\":1.5,\"format\":\"0[.]00\",\"margin\":[5,10,5,10],\"start\":-0.5,\"step\":0.1,\"title\":\"weight1\",\"value\":0.5,\"value_throttled\":0.5},\"id\":\"1004\",\"type\":\"Slider\"},{\"attributes\":{\"axis_label\":\"Cumulative Returns\",\"bounds\":\"auto\",\"formatter\":{\"id\":\"1138\"},\"major_label_orientation\":\"horizontal\",\"ticker\":{\"id\":\"1111\"}},\"id\":\"1110\",\"type\":\"LinearAxis\"},{\"attributes\":{},\"id\":\"1033\",\"type\":\"ResetTool\"},{\"attributes\":{},\"id\":\"1138\",\"type\":\"BasicTickFormatter\"},{\"attributes\":{\"source\":{\"id\":\"1042\"}},\"id\":\"1049\",\"type\":\"CDSView\"},{\"attributes\":{},\"id\":\"1114\",\"type\":\"SaveTool\"},{\"attributes\":{},\"id\":\"1017\",\"type\":\"LinearScale\"},{\"attributes\":{},\"id\":\"1051\",\"type\":\"DatetimeTickFormatter\"},{\"attributes\":{\"data_source\":{\"id\":\"1042\"},\"glyph\":{\"id\":\"1045\"},\"hover_glyph\":null,\"muted_glyph\":{\"id\":\"1047\"},\"nonselection_glyph\":{\"id\":\"1046\"},\"selection_glyph\":null,\"view\":{\"id\":\"1049\"}},\"id\":\"1048\",\"type\":\"GlyphRenderer\"},{\"attributes\":{\"num_minor_ticks\":5,\"tickers\":[{\"id\":\"1059\"},{\"id\":\"1060\"},{\"id\":\"1061\"},{\"id\":\"1062\"},{\"id\":\"1063\"},{\"id\":\"1064\"},{\"id\":\"1065\"},{\"id\":\"1066\"},{\"id\":\"1067\"},{\"id\":\"1068\"},{\"id\":\"1069\"},{\"id\":\"1070\"}]},\"id\":\"1022\",\"type\":\"DatetimeTicker\"},{\"attributes\":{},\"id\":\"1115\",\"type\":\"PanTool\"},{\"attributes\":{},\"id\":\"1053\",\"type\":\"BasicTickFormatter\"},{\"attributes\":{},\"id\":\"1116\",\"type\":\"WheelZoomTool\"},{\"attributes\":{\"overlay\":{\"id\":\"1119\"}},\"id\":\"1117\",\"type\":\"BoxZoomTool\"},{\"attributes\":{\"line_alpha\":0.1,\"line_color\":\"#1f77b3\",\"line_width\":2,\"x\":{\"field\":\"time\"},\"y\":{\"field\":\"Cumulative Returns\"}},\"id\":\"1046\",\"type\":\"Line\"},{\"attributes\":{\"below\":[{\"id\":\"1021\"}],\"center\":[{\"id\":\"1024\"},{\"id\":\"1028\"}],\"left\":[{\"id\":\"1025\"}],\"margin\":[5,5,5,5],\"min_border_bottom\":10,\"min_border_left\":10,\"min_border_right\":10,\"min_border_top\":10,\"plot_height\":300,\"plot_width\":700,\"renderers\":[{\"id\":\"1048\"}],\"sizing_mode\":\"fixed\",\"title\":{\"id\":\"1013\"},\"toolbar\":{\"id\":\"1035\"},\"x_range\":{\"id\":\"1009\"},\"x_scale\":{\"id\":\"1017\"},\"y_range\":{\"id\":\"1010\"},\"y_scale\":{\"id\":\"1019\"}},\"id\":\"1012\",\"subtype\":\"Figure\",\"type\":\"Plot\"},{\"attributes\":{\"bottom_units\":\"screen\",\"fill_alpha\":0.5,\"fill_color\":\"lightgrey\",\"left_units\":\"screen\",\"level\":\"overlay\",\"line_alpha\":1.0,\"line_color\":\"black\",\"line_dash\":[4,4],\"line_width\":2,\"right_units\":\"screen\",\"top_units\":\"screen\"},\"id\":\"1034\",\"type\":\"BoxAnnotation\"},{\"attributes\":{},\"id\":\"1136\",\"type\":\"CategoricalTickFormatter\"},{\"attributes\":{\"children\":[{\"id\":\"1003\"},{\"id\":\"1004\"},{\"id\":\"1005\"},{\"id\":\"1006\"}],\"margin\":[0,0,0,0],\"name\":\"Column01624\"},\"id\":\"1002\",\"type\":\"Column\"},{\"attributes\":{\"line_alpha\":0.2,\"line_color\":\"#1f77b3\",\"line_width\":2,\"x\":{\"field\":\"time\"},\"y\":{\"field\":\"Cumulative Returns\"}},\"id\":\"1047\",\"type\":\"Line\"},{\"attributes\":{\"end\":0.271008387916053,\"reset_end\":0.271008387916053,\"reset_start\":-0.052746072479593425,\"start\":-0.052746072479593425,\"tags\":[[[\"Cumulative Returns\",\"Cumulative Returns\",null]]]},\"id\":\"1010\",\"type\":\"Range1d\"},{\"attributes\":{},\"id\":\"1118\",\"type\":\"ResetTool\"},{\"attributes\":{\"children\":[{\"id\":\"1002\"},{\"id\":\"1007\"}],\"margin\":[0,0,0,0],\"name\":\"Column01459\"},\"id\":\"1001\",\"type\":\"Column\"},{\"attributes\":{},\"id\":\"1128\",\"type\":\"Selection\"},{\"attributes\":{\"data\":{\"Cumulative_Returns\":{\"__ndarray__\":\"AAAAAAAA+H+A9KwGMOuBPwBBvJiwoH6/gHkgQL5ai78AZUvOylRwPwBMt3gD1FI/gJXnPf5ihD8g0m9UnQaQv2CvTpEqppW/wAs4ElyAlL8AMmTVimKav6DG4teY4Za/wEOJBVpMl79Aq+GH+kONv4A6ha1/oIU/AOmVqkLMfz8gRseOHPKpP+Agtot+eLI/oBFZObNCrj+g0SalLZOmPwBG3b+nqqM/YHHWlBP2rT/ATULnBZ+rP2BrD7AN/6o/ICGEbCBwqj9ADvdPtu6qPyBHfBS9QqY/wIMUXlIerT8AE8eZcd6pP3AqRfCXwbA/cFb6HNSZsT9Q+FD2GB63P7BYp5+wIbw/IPE9FCuCvz/wO25MJRi5P6BZimTxbLw/ON/RRJN0wD9wGJugosS1P4D4xm9Ef7I/wBAIla68qj+gBXRn3kiyP8BPYl74n6w/QFW4tk/wpz8A0ZENj3moP2BpKIMyIq0/IGopnTkMqj/gaBtXi3WjP4BdwgjRu5k/wOPIwohykj9AT+yz3QSjPwCaS4FCo3E/ADVSvAsEfz/ATFQQIs+ZP4Ctbb0TdqM/QB0QKZOsnT+AHS5dQWWgP2ASD5WkVqE/ABiYakcxjz/Aeq1f+s6dPwArYmt5F4A/QCQb2UZbmj/ACHK1mDidPyApWAmRJqk/4PxVvtYJsD+w7FsoXEm1PxC0+UBLhrE/YHmVHouXsT/Q+DKzuv6wP+D+0mlszKU/4NV2S5aPpz9gtK6nNGmrP0CECVpwka0/YHhbGS+HsD9AfNo8gD+gP0AsrcGQZqI/gAGPO8s3g78AG2MbRTN9PwAYm6foulg/AFEE4szKbr8AP34XUFWWPwDmAMaMSKo/kN3TsSSLsz8Aa6bY1EG0P5BcG/o9q8A/4LuZjlf4uz8gon0cTmm7P3B0GU7sTbg/EOO+/HicvD9Ig+WL+Y/BP4ADsouresA/wD26cioAvj8wOiTlAbm8P3B+znHPxLo/oNuUa/KUvz/Qkob2FcHDP4CzcVHxjMI/6LdhWW8Ywj/QkGmFYy7CP3D5Qz1UlMM/WGz47RlYxT/w8Np6883EPzACuXY+RsU/QOdZpHkFxT9IrEpsEp/FPxDht+B5UsQ/SIwHIz4oxD/oXwxcVjzPP6DZ0ZLKpcw/wDXZflfTzj8=\",\"dtype\":\"float64\",\"order\":\"little\",\"shape\":[109]},\"time\":[\"2020-07-14 00:00:00\",\"2020-07-15 00:00:00\",\"2020-07-16 00:00:00\",\"2020-07-17 00:00:00\",\"2020-07-20 00:00:00\",\"2020-07-21 00:00:00\",\"2020-07-22 00:00:00\",\"2020-07-23 00:00:00\",\"2020-07-24 00:00:00\",\"2020-07-27 00:00:00\",\"2020-07-28 00:00:00\",\"2020-07-29 00:00:00\",\"2020-07-30 00:00:00\",\"2020-07-31 00:00:00\",\"2020-08-03 00:00:00\",\"2020-08-04 00:00:00\",\"2020-08-05 00:00:00\",\"2020-08-06 00:00:00\",\"2020-08-07 00:00:00\",\"2020-08-10 00:00:00\",\"2020-08-11 00:00:00\",\"2020-08-12 00:00:00\",\"2020-08-13 00:00:00\",\"2020-08-14 00:00:00\",\"2020-08-17 00:00:00\",\"2020-08-18 00:00:00\",\"2020-08-19 00:00:00\",\"2020-08-20 00:00:00\",\"2020-08-21 00:00:00\",\"2020-08-24 00:00:00\",\"2020-08-25 00:00:00\",\"2020-08-26 00:00:00\",\"2020-08-27 00:00:00\",\"2020-08-28 00:00:00\",\"2020-08-31 00:00:00\",\"2020-09-01 00:00:00\",\"2020-09-02 00:00:00\",\"2020-09-03 00:00:00\",\"2020-09-04 00:00:00\",\"2020-09-08 00:00:00\",\"2020-09-09 00:00:00\",\"2020-09-10 00:00:00\",\"2020-09-11 00:00:00\",\"2020-09-14 00:00:00\",\"2020-09-15 00:00:00\",\"2020-09-16 00:00:00\",\"2020-09-17 00:00:00\",\"2020-09-18 00:00:00\",\"2020-09-21 00:00:00\",\"2020-09-22 00:00:00\",\"2020-09-23 00:00:00\",\"2020-09-24 00:00:00\",\"2020-09-25 00:00:00\",\"2020-09-28 00:00:00\",\"2020-09-29 00:00:00\",\"2020-09-30 00:00:00\",\"2020-10-01 00:00:00\",\"2020-10-02 00:00:00\",\"2020-10-05 00:00:00\",\"2020-10-06 00:00:00\",\"2020-10-07 00:00:00\",\"2020-10-08 00:00:00\",\"2020-10-09 00:00:00\",\"2020-10-12 00:00:00\",\"2020-10-13 00:00:00\",\"2020-10-14 00:00:00\",\"2020-10-15 00:00:00\",\"2020-10-16 00:00:00\",\"2020-10-19 00:00:00\",\"2020-10-20 00:00:00\",\"2020-10-21 00:00:00\",\"2020-10-22 00:00:00\",\"2020-10-23 00:00:00\",\"2020-10-26 00:00:00\",\"2020-10-27 00:00:00\",\"2020-10-28 00:00:00\",\"2020-10-29 00:00:00\",\"2020-10-30 00:00:00\",\"2020-11-02 00:00:00\",\"2020-11-03 00:00:00\",\"2020-11-04 00:00:00\",\"2020-11-05 00:00:00\",\"2020-11-06 00:00:00\",\"2020-11-09 00:00:00\",\"2020-11-10 00:00:00\",\"2020-11-11 00:00:00\",\"2020-11-12 00:00:00\",\"2020-11-13 00:00:00\",\"2020-11-16 00:00:00\",\"2020-11-17 00:00:00\",\"2020-11-18 00:00:00\",\"2020-11-19 00:00:00\",\"2020-11-20 00:00:00\",\"2020-11-23 00:00:00\",\"2020-11-24 00:00:00\",\"2020-11-25 00:00:00\",\"2020-11-27 00:00:00\",\"2020-11-30 00:00:00\",\"2020-12-01 00:00:00\",\"2020-12-02 00:00:00\",\"2020-12-03 00:00:00\",\"2020-12-04 00:00:00\",\"2020-12-07 00:00:00\",\"2020-12-08 00:00:00\",\"2020-12-09 00:00:00\",\"2020-12-10 00:00:00\",\"2020-12-11 00:00:00\",\"2020-12-14 00:00:00\",\"2020-12-15 00:00:00\"]},\"selected\":{\"id\":\"1128\"},\"selection_policy\":{\"id\":\"1145\"}},\"id\":\"1127\",\"type\":\"ColumnDataSource\"},{\"attributes\":{\"fill_alpha\":{\"value\":0.1},\"fill_color\":{\"value\":\"#1f77b3\"},\"line_alpha\":{\"value\":0.1},\"top\":{\"field\":\"Cumulative_Returns\"},\"width\":{\"value\":0.8},\"x\":{\"field\":\"time\"}},\"id\":\"1131\",\"type\":\"VBar\"},{\"attributes\":{},\"id\":\"1026\",\"type\":\"BasicTicker\"},{\"attributes\":{\"fill_alpha\":{\"value\":0.2},\"fill_color\":{\"value\":\"#1f77b3\"},\"line_alpha\":{\"value\":0.2},\"top\":{\"field\":\"Cumulative_Returns\"},\"width\":{\"value\":0.8},\"x\":{\"field\":\"time\"}},\"id\":\"1132\",\"type\":\"VBar\"},{\"attributes\":{\"client_comm_id\":\"952229f133b9474289ad59503ad413fc\",\"comm_id\":\"b222c679285140a6b1493343101dd7a7\",\"plot_id\":\"1001\"},\"id\":\"1240\",\"type\":\"panel.models.comm_manager.CommManager\"},{\"attributes\":{\"callback\":null,\"formatters\":{\"@{time}\":\"datetime\"},\"renderers\":[{\"id\":\"1048\"}],\"tags\":[\"hv_created\"],\"tooltips\":[[\"time\",\"@{time}{%F %T}\"],[\"Cumulative Returns\",\"@{Cumulative_Returns}\"]]},\"id\":\"1011\",\"type\":\"HoverTool\"},{\"attributes\":{\"source\":{\"id\":\"1127\"}},\"id\":\"1134\",\"type\":\"CDSView\"},{\"attributes\":{\"mantissas\":[1,2,5],\"max_interval\":500.0,\"num_minor_ticks\":0},\"id\":\"1059\",\"type\":\"AdaptiveTicker\"},{\"attributes\":{\"axis_label\":\"time\",\"bounds\":\"auto\",\"formatter\":{\"id\":\"1051\"},\"major_label_orientation\":\"horizontal\",\"ticker\":{\"id\":\"1022\"}},\"id\":\"1021\",\"type\":\"DatetimeAxis\"},{\"attributes\":{\"margin\":[0,0,0,0],\"tabs\":[{\"id\":\"1094\"},{\"id\":\"1155\"}]},\"id\":\"1008\",\"type\":\"Tabs\"},{\"attributes\":{\"callback\":null,\"renderers\":[{\"id\":\"1133\"}],\"tags\":[\"hv_created\"],\"tooltips\":[[\"time\",\"@{time}\"],[\"Cumulative Returns\",\"@{Cumulative_Returns}\"]]},\"id\":\"1097\",\"type\":\"HoverTool\"},{\"attributes\":{\"margin\":[5,10,5,10],\"title\":\"ticker1\",\"value\":\"MSFT\"},\"id\":\"1003\",\"type\":\"TextInput\"},{\"attributes\":{\"child\":{\"id\":\"1012\"},\"name\":\"Tab1\",\"title\":\"Tab1\"},\"id\":\"1094\",\"type\":\"Panel\"},{\"attributes\":{\"base\":24,\"mantissas\":[1,2,4,6,8,12],\"max_interval\":43200000.0,\"min_interval\":3600000.0,\"num_minor_ticks\":0},\"id\":\"1061\",\"type\":\"AdaptiveTicker\"},{\"attributes\":{\"data_source\":{\"id\":\"1127\"},\"glyph\":{\"id\":\"1130\"},\"hover_glyph\":null,\"muted_glyph\":{\"id\":\"1132\"},\"nonselection_glyph\":{\"id\":\"1131\"},\"selection_glyph\":null,\"view\":{\"id\":\"1134\"}},\"id\":\"1133\",\"type\":\"GlyphRenderer\"},{\"attributes\":{\"fill_color\":{\"value\":\"#1f77b3\"},\"top\":{\"field\":\"Cumulative_Returns\"},\"width\":{\"value\":0.8},\"x\":{\"field\":\"time\"}},\"id\":\"1130\",\"type\":\"VBar\"},{\"attributes\":{\"margin\":[5,10,5,10],\"title\":\"ticker2\",\"value\":\"DIS\"},\"id\":\"1005\",\"type\":\"TextInput\"},{\"attributes\":{\"bottom_units\":\"screen\",\"fill_alpha\":0.5,\"fill_color\":\"lightgrey\",\"left_units\":\"screen\",\"level\":\"overlay\",\"line_alpha\":1.0,\"line_color\":\"black\",\"line_dash\":[4,4],\"line_width\":2,\"right_units\":\"screen\",\"top_units\":\"screen\"},\"id\":\"1119\",\"type\":\"BoxAnnotation\"},{\"attributes\":{},\"id\":\"1019\",\"type\":\"LinearScale\"},{\"attributes\":{\"below\":[{\"id\":\"1107\"}],\"center\":[{\"id\":\"1109\"},{\"id\":\"1113\"}],\"left\":[{\"id\":\"1110\"}],\"margin\":[5,5,5,5],\"min_border_bottom\":10,\"min_border_left\":10,\"min_border_right\":10,\"min_border_top\":10,\"plot_height\":300,\"plot_width\":700,\"renderers\":[{\"id\":\"1133\"}],\"sizing_mode\":\"fixed\",\"title\":{\"id\":\"1099\"},\"toolbar\":{\"id\":\"1120\"},\"x_range\":{\"id\":\"1095\"},\"x_scale\":{\"id\":\"1103\"},\"y_range\":{\"id\":\"1010\"},\"y_scale\":{\"id\":\"1105\"}},\"id\":\"1098\",\"subtype\":\"Figure\",\"type\":\"Plot\"},{\"attributes\":{\"base\":60,\"mantissas\":[1,2,5,10,15,20,30],\"max_interval\":1800000.0,\"min_interval\":1000.0,\"num_minor_ticks\":0},\"id\":\"1060\",\"type\":\"AdaptiveTicker\"},{\"attributes\":{\"active_drag\":\"auto\",\"active_inspect\":\"auto\",\"active_multi\":null,\"active_scroll\":\"auto\",\"active_tap\":\"auto\",\"tools\":[{\"id\":\"1097\"},{\"id\":\"1114\"},{\"id\":\"1115\"},{\"id\":\"1116\"},{\"id\":\"1117\"},{\"id\":\"1118\"}]},\"id\":\"1120\",\"type\":\"Toolbar\"},{\"attributes\":{\"text\":\"\",\"text_color\":{\"value\":\"black\"},\"text_font_size\":{\"value\":\"12pt\"}},\"id\":\"1013\",\"type\":\"Title\"},{\"attributes\":{\"text\":\"\",\"text_color\":{\"value\":\"black\"},\"text_font_size\":{\"value\":\"12pt\"}},\"id\":\"1099\",\"type\":\"Title\"},{\"attributes\":{\"reload\":false},\"id\":\"1325\",\"type\":\"panel.models.location.Location\"},{\"attributes\":{\"end\":1.5,\"format\":\"0[.]00\",\"margin\":[5,10,5,10],\"start\":-0.5,\"step\":0.1,\"title\":\"weight2\",\"value\":0.5,\"value_throttled\":0.5},\"id\":\"1006\",\"type\":\"Slider\"},{\"attributes\":{\"axis\":{\"id\":\"1021\"},\"grid_line_color\":null,\"ticker\":null},\"id\":\"1024\",\"type\":\"Grid\"},{\"attributes\":{\"days\":[1,2,3,4,5,6,7,8,9,10,11,12,13,14,15,16,17,18,19,20,21,22,23,24,25,26,27,28,29,30,31]},\"id\":\"1062\",\"type\":\"DaysTicker\"},{\"attributes\":{\"children\":[{\"id\":\"1008\"}],\"margin\":[0,0,0,0],\"name\":\"Row01623\"},\"id\":\"1007\",\"type\":\"Row\"},{\"attributes\":{\"axis\":{\"id\":\"1025\"},\"dimension\":1,\"grid_line_color\":null,\"ticker\":null},\"id\":\"1028\",\"type\":\"Grid\"},{\"attributes\":{\"days\":[1,4,7,10,13,16,19,22,25,28]},\"id\":\"1063\",\"type\":\"DaysTicker\"},{\"attributes\":{},\"id\":\"1145\",\"type\":\"UnionRenderers\"},{\"attributes\":{\"axis_label\":\"Cumulative Returns\",\"bounds\":\"auto\",\"formatter\":{\"id\":\"1053\"},\"major_label_orientation\":\"horizontal\",\"ticker\":{\"id\":\"1026\"}},\"id\":\"1025\",\"type\":\"LinearAxis\"},{\"attributes\":{\"months\":[0,1,2,3,4,5,6,7,8,9,10,11]},\"id\":\"1066\",\"type\":\"MonthsTicker\"},{\"attributes\":{\"factors\":[\"2020-07-14 00:00:00\",\"2020-07-15 00:00:00\",\"2020-07-16 00:00:00\",\"2020-07-17 00:00:00\",\"2020-07-20 00:00:00\",\"2020-07-21 00:00:00\",\"2020-07-22 00:00:00\",\"2020-07-23 00:00:00\",\"2020-07-24 00:00:00\",\"2020-07-27 00:00:00\",\"2020-07-28 00:00:00\",\"2020-07-29 00:00:00\",\"2020-07-30 00:00:00\",\"2020-07-31 00:00:00\",\"2020-08-03 00:00:00\",\"2020-08-04 00:00:00\",\"2020-08-05 00:00:00\",\"2020-08-06 00:00:00\",\"2020-08-07 00:00:00\",\"2020-08-10 00:00:00\",\"2020-08-11 00:00:00\",\"2020-08-12 00:00:00\",\"2020-08-13 00:00:00\",\"2020-08-14 00:00:00\",\"2020-08-17 00:00:00\",\"2020-08-18 00:00:00\",\"2020-08-19 00:00:00\",\"2020-08-20 00:00:00\",\"2020-08-21 00:00:00\",\"2020-08-24 00:00:00\",\"2020-08-25 00:00:00\",\"2020-08-26 00:00:00\",\"2020-08-27 00:00:00\",\"2020-08-28 00:00:00\",\"2020-08-31 00:00:00\",\"2020-09-01 00:00:00\",\"2020-09-02 00:00:00\",\"2020-09-03 00:00:00\",\"2020-09-04 00:00:00\",\"2020-09-08 00:00:00\",\"2020-09-09 00:00:00\",\"2020-09-10 00:00:00\",\"2020-09-11 00:00:00\",\"2020-09-14 00:00:00\",\"2020-09-15 00:00:00\",\"2020-09-16 00:00:00\",\"2020-09-17 00:00:00\",\"2020-09-18 00:00:00\",\"2020-09-21 00:00:00\",\"2020-09-22 00:00:00\",\"2020-09-23 00:00:00\",\"2020-09-24 00:00:00\",\"2020-09-25 00:00:00\",\"2020-09-28 00:00:00\",\"2020-09-29 00:00:00\",\"2020-09-30 00:00:00\",\"2020-10-01 00:00:00\",\"2020-10-02 00:00:00\",\"2020-10-05 00:00:00\",\"2020-10-06 00:00:00\",\"2020-10-07 00:00:00\",\"2020-10-08 00:00:00\",\"2020-10-09 00:00:00\",\"2020-10-12 00:00:00\",\"2020-10-13 00:00:00\",\"2020-10-14 00:00:00\",\"2020-10-15 00:00:00\",\"2020-10-16 00:00:00\",\"2020-10-19 00:00:00\",\"2020-10-20 00:00:00\",\"2020-10-21 00:00:00\",\"2020-10-22 00:00:00\",\"2020-10-23 00:00:00\",\"2020-10-26 00:00:00\",\"2020-10-27 00:00:00\",\"2020-10-28 00:00:00\",\"2020-10-29 00:00:00\",\"2020-10-30 00:00:00\",\"2020-11-02 00:00:00\",\"2020-11-03 00:00:00\",\"2020-11-04 00:00:00\",\"2020-11-05 00:00:00\",\"2020-11-06 00:00:00\",\"2020-11-09 00:00:00\",\"2020-11-10 00:00:00\",\"2020-11-11 00:00:00\",\"2020-11-12 00:00:00\",\"2020-11-13 00:00:00\",\"2020-11-16 00:00:00\",\"2020-11-17 00:00:00\",\"2020-11-18 00:00:00\",\"2020-11-19 00:00:00\",\"2020-11-20 00:00:00\",\"2020-11-23 00:00:00\",\"2020-11-24 00:00:00\",\"2020-11-25 00:00:00\",\"2020-11-27 00:00:00\",\"2020-11-30 00:00:00\",\"2020-12-01 00:00:00\",\"2020-12-02 00:00:00\",\"2020-12-03 00:00:00\",\"2020-12-04 00:00:00\",\"2020-12-07 00:00:00\",\"2020-12-08 00:00:00\",\"2020-12-09 00:00:00\",\"2020-12-10 00:00:00\",\"2020-12-11 00:00:00\",\"2020-12-14 00:00:00\",\"2020-12-15 00:00:00\"],\"tags\":[[[\"time\",\"time\",null]]]},\"id\":\"1095\",\"type\":\"FactorRange\"},{\"attributes\":{\"data\":{\"Cumulative Returns\":{\"__ndarray__\":\"AAAAAAAA+H+A9KwGMOuBPwBBvJiwoH6/gHkgQL5ai78AZUvOylRwPwBMt3gD1FI/gJXnPf5ihD8g0m9UnQaQv2CvTpEqppW/wAs4ElyAlL8AMmTVimKav6DG4teY4Za/wEOJBVpMl79Aq+GH+kONv4A6ha1/oIU/AOmVqkLMfz8gRseOHPKpP+Agtot+eLI/oBFZObNCrj+g0SalLZOmPwBG3b+nqqM/YHHWlBP2rT/ATULnBZ+rP2BrD7AN/6o/ICGEbCBwqj9ADvdPtu6qPyBHfBS9QqY/wIMUXlIerT8AE8eZcd6pP3AqRfCXwbA/cFb6HNSZsT9Q+FD2GB63P7BYp5+wIbw/IPE9FCuCvz/wO25MJRi5P6BZimTxbLw/ON/RRJN0wD9wGJugosS1P4D4xm9Ef7I/wBAIla68qj+gBXRn3kiyP8BPYl74n6w/QFW4tk/wpz8A0ZENj3moP2BpKIMyIq0/IGopnTkMqj/gaBtXi3WjP4BdwgjRu5k/wOPIwohykj9AT+yz3QSjPwCaS4FCo3E/ADVSvAsEfz/ATFQQIs+ZP4Ctbb0TdqM/QB0QKZOsnT+AHS5dQWWgP2ASD5WkVqE/ABiYakcxjz/Aeq1f+s6dPwArYmt5F4A/QCQb2UZbmj/ACHK1mDidPyApWAmRJqk/4PxVvtYJsD+w7FsoXEm1PxC0+UBLhrE/YHmVHouXsT/Q+DKzuv6wP+D+0mlszKU/4NV2S5aPpz9gtK6nNGmrP0CECVpwka0/YHhbGS+HsD9AfNo8gD+gP0AsrcGQZqI/gAGPO8s3g78AG2MbRTN9PwAYm6foulg/AFEE4szKbr8AP34XUFWWPwDmAMaMSKo/kN3TsSSLsz8Aa6bY1EG0P5BcG/o9q8A/4LuZjlf4uz8gon0cTmm7P3B0GU7sTbg/EOO+/HicvD9Ig+WL+Y/BP4ADsouresA/wD26cioAvj8wOiTlAbm8P3B+znHPxLo/oNuUa/KUvz/Qkob2FcHDP4CzcVHxjMI/6LdhWW8Ywj/QkGmFYy7CP3D5Qz1UlMM/WGz47RlYxT/w8Np6883EPzACuXY+RsU/QOdZpHkFxT9IrEpsEp/FPxDht+B5UsQ/SIwHIz4oxD/oXwxcVjzPP6DZ0ZLKpcw/wDXZflfTzj8=\",\"dtype\":\"float64\",\"order\":\"little\",\"shape\":[109]},\"Cumulative_Returns\":{\"__ndarray__\":\"AAAAAAAA+H+A9KwGMOuBPwBBvJiwoH6/gHkgQL5ai78AZUvOylRwPwBMt3gD1FI/gJXnPf5ihD8g0m9UnQaQv2CvTpEqppW/wAs4ElyAlL8AMmTVimKav6DG4teY4Za/wEOJBVpMl79Aq+GH+kONv4A6ha1/oIU/AOmVqkLMfz8gRseOHPKpP+Agtot+eLI/oBFZObNCrj+g0SalLZOmPwBG3b+nqqM/YHHWlBP2rT/ATULnBZ+rP2BrD7AN/6o/ICGEbCBwqj9ADvdPtu6qPyBHfBS9QqY/wIMUXlIerT8AE8eZcd6pP3AqRfCXwbA/cFb6HNSZsT9Q+FD2GB63P7BYp5+wIbw/IPE9FCuCvz/wO25MJRi5P6BZimTxbLw/ON/RRJN0wD9wGJugosS1P4D4xm9Ef7I/wBAIla68qj+gBXRn3kiyP8BPYl74n6w/QFW4tk/wpz8A0ZENj3moP2BpKIMyIq0/IGopnTkMqj/gaBtXi3WjP4BdwgjRu5k/wOPIwohykj9AT+yz3QSjPwCaS4FCo3E/ADVSvAsEfz/ATFQQIs+ZP4Ctbb0TdqM/QB0QKZOsnT+AHS5dQWWgP2ASD5WkVqE/ABiYakcxjz/Aeq1f+s6dPwArYmt5F4A/QCQb2UZbmj/ACHK1mDidPyApWAmRJqk/4PxVvtYJsD+w7FsoXEm1PxC0+UBLhrE/YHmVHouXsT/Q+DKzuv6wP+D+0mlszKU/4NV2S5aPpz9gtK6nNGmrP0CECVpwka0/YHhbGS+HsD9AfNo8gD+gP0AsrcGQZqI/gAGPO8s3g78AG2MbRTN9PwAYm6foulg/AFEE4szKbr8AP34XUFWWPwDmAMaMSKo/kN3TsSSLsz8Aa6bY1EG0P5BcG/o9q8A/4LuZjlf4uz8gon0cTmm7P3B0GU7sTbg/EOO+/HicvD9Ig+WL+Y/BP4ADsouresA/wD26cioAvj8wOiTlAbm8P3B+znHPxLo/oNuUa/KUvz/Qkob2FcHDP4CzcVHxjMI/6LdhWW8Ywj/QkGmFYy7CP3D5Qz1UlMM/WGz47RlYxT/w8Np6883EPzACuXY+RsU/QOdZpHkFxT9IrEpsEp/FPxDht+B5UsQ/SIwHIz4oxD/oXwxcVjzPP6DZ0ZLKpcw/wDXZflfTzj8=\",\"dtype\":\"float64\",\"order\":\"little\",\"shape\":[109]},\"time\":{\"__ndarray__\":\"AADA76k0d0IAAIBV/DR3QgAAQLtONXdCAAAAIaE1d0IAAEBSmDZ3QgAAALjqNndCAADAHT03d0IAAICDjzd3QgAAQOnhN3dCAACAGtk4d0IAAECAKzl3QgAAAOZ9OXdCAADAS9A5d0IAAICxIjp3QgAAwOIZO3dCAACASGw7d0IAAECuvjt3QgAAABQRPHdCAADAeWM8d0IAAACrWj13QgAAwBCtPXdCAACAdv89d0IAAEDcUT53QgAAAEKkPndCAABAc5s/d0IAAADZ7T93QgAAwD5AQHdCAACApJJAd0IAAEAK5UB3QgAAgDvcQXdCAABAoS5Cd0IAAAAHgUJ3QgAAwGzTQndCAACA0iVDd0IAAMADHUR3QgAAgGlvRHdCAABAz8FEd0IAAAA1FEV3QgAAwJpmRXdCAADAMbBGd0IAAICXAkd3QgAAQP1UR3dCAAAAY6dHd0IAAECUnkh3QgAAAPrwSHdCAADAX0NJd0IAAIDFlUl3QgAAQCvoSXdCAACAXN9Kd0IAAEDCMUt3QgAAACiES3dCAADAjdZLd0IAAIDzKEx3QgAAwCQgTXdCAACAinJNd0IAAEDwxE13QgAAAFYXTndCAADAu2lOd0IAAADtYE93QgAAwFKzT3dCAACAuAVQd0IAAEAeWFB3QgAAAISqUHdCAABAtaFRd0IAAAAb9FF3QgAAwIBGUndCAACA5phSd0IAAEBM61J3QgAAgH3iU3dCAABA4zRUd0IAAABJh1R3QgAAwK7ZVHdCAACAFCxVd0IAAMBFI1Z3QgAAgKt1VndCAABAEchWd0IAAAB3Gld3QgAAwNxsV3dCAAAADmRYd0IAAMBztlh3QgAAgNkIWXdCAABAP1tZd0IAAAClrVl3QgAAQNakWndCAAAAPPdad0IAAMChSVt3QgAAgAecW3dCAABAbe5bd0IAAICe5Vx3QgAAQAQ4XXdCAAAAaopdd0IAAMDP3F13QgAAgDUvXndCAADAZiZfd0IAAIDMeF93QgAAQDLLX3dCAADA/W9gd0IAAAAvZ2F3QgAAwJS5YXdCAACA+gtid0IAAEBgXmJ3QgAAAMawYndCAABA96djd0IAAABd+mN3QgAAwMJMZHdCAACAKJ9kd0IAAECO8WR3QgAAgL/oZXdCAABAJTtmd0I=\",\"dtype\":\"float64\",\"order\":\"little\",\"shape\":[109]}},\"selected\":{\"id\":\"1043\"},\"selection_policy\":{\"id\":\"1072\"}},\"id\":\"1042\",\"type\":\"ColumnDataSource\"},{\"attributes\":{\"days\":[1,8,15,22]},\"id\":\"1064\",\"type\":\"DaysTicker\"},{\"attributes\":{\"days\":[1,15]},\"id\":\"1065\",\"type\":\"DaysTicker\"}],\"root_ids\":[\"1001\",\"1240\",\"1325\"]},\"title\":\"Bokeh Application\",\"version\":\"2.2.3\"}};\n",
       "    var render_items = [{\"docid\":\"bd39816c-c78a-4365-b9cb-332ca4b56aed\",\"root_ids\":[\"1001\"],\"roots\":{\"1001\":\"45a38bd9-1cfe-4b00-834d-849cfe6963be\"}}];\n",
       "    root.Bokeh.embed.embed_items_notebook(docs_json, render_items);\n",
       "  }\n",
       "  if (root.Bokeh !== undefined && root.Bokeh.Panel !== undefined) {\n",
       "    embed_document(root);\n",
       "  } else {\n",
       "    var attempts = 0;\n",
       "    var timer = setInterval(function(root) {\n",
       "      if (root.Bokeh !== undefined && root.Bokeh.Panel !== undefined) {\n",
       "        clearInterval(timer);\n",
       "        embed_document(root);\n",
       "      } else if (document.readyState == \"complete\") {\n",
       "        attempts++;\n",
       "        if (attempts > 100) {\n",
       "          clearInterval(timer);\n",
       "          console.log(\"Bokeh: ERROR: Unable to run BokehJS code because BokehJS library is missing\");\n",
       "        }\n",
       "      }\n",
       "    }, 10, root)\n",
       "  }\n",
       "})(window);</script>"
      ],
      "text/plain": [
       "Column\n",
       "    [0] Column\n",
       "        [0] TextInput(name='ticker1', value='MSFT')\n",
       "        [1] FloatSlider(end=1.5, name='weight1', start=-0.5, value=0.5, value_throttled=0.5)\n",
       "        [2] TextInput(name='ticker2', value='DIS')\n",
       "        [3] FloatSlider(end=1.5, name='weight2', start=-0.5, value=0.5, value_throttled=0.5)\n",
       "    [1] Row\n",
       "        [0] Tabs\n",
       "            [0] HoloViews(Curve, name='Tab1')\n",
       "            [1] HoloViews(Bars, name='Tab2')"
      ]
     },
     "execution_count": 6,
     "metadata": {
      "application/vnd.holoviews_exec.v0+json": {
       "id": "1001"
      }
     },
     "output_type": "execute_result"
    }
   ],
   "source": [
    "# Run the app\n",
    "interact(create_app, ticker1='MSFT', ticker2='DIS', weight1=0.5, weight2=0.5)"
   ]
  }
 ],
 "metadata": {
  "kernelspec": {
   "display_name": "Python [conda env:root] *",
   "language": "python",
   "name": "conda-root-py"
  },
  "language_info": {
   "codemirror_mode": {
    "name": "ipython",
    "version": 3
   },
   "file_extension": ".py",
   "mimetype": "text/x-python",
   "name": "python",
   "nbconvert_exporter": "python",
   "pygments_lexer": "ipython3",
   "version": "3.7.9"
  }
 },
 "nbformat": 4,
 "nbformat_minor": 4
}
