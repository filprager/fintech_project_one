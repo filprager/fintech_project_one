{
 "cells": [
  {
   "cell_type": "code",
   "execution_count": 24,
   "metadata": {},
   "outputs": [],
   "source": [
    "from dotenv import load_dotenv\n",
    "import os\n",
    "import pandas as pd\n",
    "import alpaca_trade_api"
   ]
  },
  {
   "cell_type": "code",
   "execution_count": 25,
   "metadata": {},
   "outputs": [],
   "source": [
    "def get_data(tickers, weights):\n",
    "    # Load .env file\n",
    "    load_dotenv()\n",
    "    \n",
    "    # Set buy time\n",
    "    buy_time = pd.Timestamp(\"2020-07-14\", tz=\"America/New_York\").isoformat()\n",
    "\n",
    "    # Set sell time\n",
    "    sell_time = pd.Timestamp(\"2020-12-15\", tz=\"America/New_York\").isoformat()\n",
    "\n",
    "    # Get data from Alpaca\n",
    "\n",
    "    # Set Alpaca API key and secret\n",
    "    alpaca_api_key = os.getenv(\"ALPACA_API_KEY\")\n",
    "    alpaca_secret_key = os.getenv(\"ALPACA_SECRET_KEY\")\n",
    "\n",
    "    # Create the Alpaca API object\n",
    "    alpaca = alpaca_trade_api.REST(alpaca_api_key, alpaca_secret_key)\n",
    "\n",
    "    # Set the timeframe that stock data will be based on\n",
    "    timeframe = \"1D\"\n",
    "\n",
    "    # Get data for tickers\n",
    "    df = alpaca.get_barset(\n",
    "        tickers,\n",
    "        timeframe,\n",
    "        start = buy_time,\n",
    "        end = sell_time\n",
    "    ).df\n",
    "    \n",
    "    return df"
   ]
  }
 ],
 "metadata": {
  "kernelspec": {
   "display_name": "Python 3",
   "language": "python",
   "name": "python3"
  },
  "language_info": {
   "codemirror_mode": {
    "name": "ipython",
    "version": 3
   },
   "file_extension": ".py",
   "mimetype": "text/x-python",
   "name": "python",
   "nbconvert_exporter": "python",
   "pygments_lexer": "ipython3",
   "version": "3.7.9"
  }
 },
 "nbformat": 4,
 "nbformat_minor": 4
}
